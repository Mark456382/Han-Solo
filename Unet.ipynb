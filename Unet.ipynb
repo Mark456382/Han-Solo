{
 "cells": [
  {
   "cell_type": "code",
   "execution_count": 2,
   "id": "26569912-f064-41a2-8f01-569f9881e32d",
   "metadata": {},
   "outputs": [],
   "source": [
    "import os\n",
    "import rasterio\n",
    "import numpy as np\n",
    "import pandas as pd\n",
    "import matplotlib.pyplot as plt\n",
    "\n",
    "from PIL import Image\n",
    "from torch.utils.data import Dataset\n",
    "from torch.utils.data import DataLoader"
   ]
  },
  {
   "cell_type": "code",
   "execution_count": 24,
   "id": "2f9c1bd2-ee50-4dff-a083-6088e3822294",
   "metadata": {},
   "outputs": [],
   "source": [
    "PALLETE = [\n",
    "        [0, 0, 0],\n",
    "        [0, 0, 255],\n",
    "        ]"
   ]
  },
  {
   "cell_type": "code",
   "execution_count": 25,
   "id": "86d1dc0c-a32c-45af-96a9-35386e5de2b3",
   "metadata": {},
   "outputs": [],
   "source": [
    "def normalize(band):\n",
    "    band_min, band_max = (band.min(), band.max())\n",
    "    return ((band - band_min) / ((band_max - band_min)))"
   ]
  },
  {
   "cell_type": "code",
   "execution_count": 30,
   "id": "053a0a50-9a03-49f6-9097-165841f19f2e",
   "metadata": {},
   "outputs": [],
   "source": [
    "def brighten(band):\n",
    "    alpha = 0.13\n",
    "    beta = 0\n",
    "    return np.clip(alpha * band + beta, 0, 255)"
   ]
  },
  {
   "cell_type": "code",
   "execution_count": 37,
   "id": "fccf4603-3d97-4be1-bcd3-6575111b7f42",
   "metadata": {},
   "outputs": [],
   "source": [
    "def convert(im_path):\n",
    "    with rasterio.open(im_path) as fin:\n",
    "        red = fin.read(3)\n",
    "        green = fin.read(2)\n",
    "        blue = fin.read(1)\n",
    "\n",
    "    red_b = brighten(red)\n",
    "    blue_b = brighten(blue)\n",
    "    green_b = brighten(green)\n",
    "\n",
    "    red_bn = normalize(red_b)\n",
    "    green_bn = normalize(green_b)\n",
    "    blue_bn = normalize(blue_b)\n",
    "\n",
    "    return np.dstack((blue_b, green_b, red_b)), np.dstack((red_bn, green_bn, blue_bn))"
   ]
  },
  {
   "cell_type": "code",
   "execution_count": 38,
   "id": "fadbb85d",
   "metadata": {},
   "outputs": [],
   "source": [
    "def plot_data(image_path, mask_path):\n",
    "    plt.figure(figsize=(12, 12))\n",
    "    pal = [value for color in PALLETE for value in color]\n",
    "\n",
    "    plt.subplot(1, 2, 1)\n",
    "    _, img = convert(image_path)\n",
    "    plt.imshow(img)\n",
    "\n",
    "    plt.subplot(1, 2, 2)\n",
    "    with rasterio.open(mask_path) as fin:\n",
    "        mask = fin.read(1)\n",
    "    mask = Image.fromarray(mask).convert('P')\n",
    "    mask.putpalette(pal)\n",
    "    plt.imshow(mask)\n",
    "    plt.show();"
   ]
  },
  {
   "cell_type": "code",
   "execution_count": 1,
   "id": "dce8a144",
   "metadata": {},
   "outputs": [
    {
     "ename": "NameError",
     "evalue": "name 'plot_data' is not defined",
     "output_type": "error",
     "traceback": [
      "\u001b[1;31m---------------------------------------------------------------------------\u001b[0m",
      "\u001b[1;31mNameError\u001b[0m                                 Traceback (most recent call last)",
      "Cell \u001b[1;32mIn[1], line 1\u001b[0m\n\u001b[1;32m----> 1\u001b[0m \u001b[43mplot_data\u001b[49m(\u001b[38;5;124m'\u001b[39m\u001b[38;5;124mimage_split_256/9_2_1_1.tif\u001b[39m\u001b[38;5;124m'\u001b[39m, \u001b[38;5;124m'\u001b[39m\u001b[38;5;124mmask_split_256/9_2_1_1.tif\u001b[39m\u001b[38;5;124m'\u001b[39m)\n",
      "\u001b[1;31mNameError\u001b[0m: name 'plot_data' is not defined"
     ]
    }
   ],
   "source": [
    "plot_data('image_split_256/9_2_1_1.tif', 'mask_split_256/9_2_1_1.tif')"
   ]
  }
 ],
 "metadata": {
  "kernelspec": {
   "display_name": "Hack",
   "language": "python",
   "name": "python3"
  },
  "language_info": {
   "codemirror_mode": {
    "name": "ipython",
    "version": 3
   },
   "file_extension": ".py",
   "mimetype": "text/x-python",
   "name": "python",
   "nbconvert_exporter": "python",
   "pygments_lexer": "ipython3",
   "version": "3.9.20"
  }
 },
 "nbformat": 4,
 "nbformat_minor": 5
}
